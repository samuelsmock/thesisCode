{
 "cells": [
  {
   "cell_type": "code",
   "execution_count": null,
   "metadata": {},
   "outputs": [],
   "source": [
    "import geopandas as gpd\n",
    "import pandas as pd\n",
    "\n",
    "# Read the vector dataset\n",
    "saxonyGrid_gdf = gpd.read_file(r\"C:\\Users\\smock\\Desktop\\thesis_data_local\\spatial_data\\consolidatedThesisData.gpkg\", layer = \"snGrid100mLEAE\")\n",
    "\n",
    "# Read the CSV files\n",
    "build= pd.read_csv(r'C:\\Users\\smock\\Desktop\\thesis_data_local\\spatial_data\\2011census\\csv_Gebaeude_100m_Gitter\\geb100m_wide.csv')\n",
    "apart= pd.read_csv(r\"C:\\Users\\smock\\Desktop\\thesis_data_local\\spatial_data\\2011census\\csv_Wohnungen_100m_Gitter\\wohn100m_wide.csv\")\n",
    "\n",
    "# Perform the join on 'id' and 'Gitter_ID_100m'\n",
    "joined_data = saxonyGrid_gdf.merge(build.add_prefix('build_'), left_on='id', right_on='Gitter_ID_100m')\n",
    "joined_data = joined_data.merge(apart.add_prefix('apart_'), left_on='id', right_on='Gitter_ID_100m')\n",
    "\n",
    "# Discard the columns in the input vector file\n",
    "filtered_columns = [col for col in joined_data.columns if col.startswith('csv1_') or col.startswith('csv2_') or col == 'id']\n",
    "snGrid_buil_apart = joined_data[filtered_columns]\n",
    "\n",
    "# Save the filtered data to a new file\n",
    "output_file = r\"C:\\Users\\smock\\Desktop\\thesis_data_local\\spatial_data\\consolidatedThesisData.gpkg\"\n",
    " \n",
    "snGrid_buil_apart.to_file(output_file, driver = \"GPKG\")\n",
    "\n"
   ]
  },
  {
   "cell_type": "code",
   "execution_count": null,
   "metadata": {},
   "outputs": [],
   "source": []
  },
  {
   "cell_type": "code",
   "execution_count": null,
   "metadata": {},
   "outputs": [],
   "source": [
    "# view data types in building csv\n",
    "import geopandas as gpd\n",
    "\n",
    "# Read the GeoDataFrame from a shapefile\n",
    "buildings = gpd.read_file(r\"C:\\Users\\smock\\Desktop\\thesis_data_local\\spatial_data\\consolidatedThesisData.gpkg\", layer = \"snGrid100m_build\", rows = 10)\n",
    "\n",
    "\n",
    "# Get column names and data types\n",
    "columns = buildings.columns\n",
    "data_types = buildings.dtypes\n",
    "\n",
    "# Print column names and data types\n",
    "for column, data_type in zip(columns, data_types):\n",
    "    print(column, \":\", data_type)"
   ]
  },
  {
   "cell_type": "code",
   "execution_count": null,
   "metadata": {},
   "outputs": [],
   "source": [
    "# view data types in joined building geodataframe\n",
    "import geopandas as gpd\n",
    "\n",
    "# Read the GeoDataFrame from a shapefile\n",
    "buildings = gpd.read_file(r\"C:\\Users\\smock\\Desktop\\thesis_data_local\\spatial_data\\consolidatedThesisData.gpkg\", layer = \"snGrid100m_build\", rows = 10)\n",
    "\n",
    "\n",
    "# Get column names and data types\n",
    "columns = buildings.columns\n",
    "data_types = buildings.dtypes\n",
    "\n",
    "# Print column names and data types\n",
    "for column, data_type in zip(columns, data_types):\n",
    "    print(column, \":\", data_type)"
   ]
  },
  {
   "cell_type": "code",
   "execution_count": 5,
   "metadata": {},
   "outputs": [
    {
     "name": "stdout",
     "output_type": "stream",
     "text": [
      "2477617\n"
     ]
    }
   ],
   "source": [
    "#find out how many 100mx100m squares are covered by the buildings data set\n",
    "import pandas as pd\n",
    "\n",
    "build= pd.read_csv(r'C:\\Users\\smock\\Desktop\\thesis_data_local\\spatial_data\\2011census\\csv_Gebaeude_100m_Gitter\\geb100m_wide.csv')\n",
    "\n",
    "print(build['Gitter_ID_100m'].nunique())"
   ]
  },
  {
   "cell_type": "code",
   "execution_count": 24,
   "metadata": {},
   "outputs": [
    {
     "name": "stdout",
     "output_type": "stream",
     "text": [
      "{}\n",
      "Total:  0\n"
     ]
    }
   ],
   "source": [
    "import geopandas as gpd\n",
    "import pandas as pd\n",
    "\n",
    "gdf = gpd.read_file(r\"C:\\Users\\smock\\Desktop\\thesis_data_local\\spatial_data\\consolidatedThesisData.gpkg\", layer = \"snGrid100m_build\", rows = 10)\n",
    "\n",
    "sum_dict = {}\n",
    "\n",
    "# Calculate the sum for each column and add it to the dictionary\n",
    "for column in buildings.columns:\n",
    "    if column.startswith('_build') & pd.to_numeric(gdf[column], errors='coerce').notnull().all():\n",
    "  \n",
    "        gdf[column] = gdf[column].astype(int)\n",
    "        sum_dict[\"sum_\" + column] = gdf[column].sum()\n",
    "\n",
    "total_records = 0\n",
    "print(sum_dict)\n",
    "\n",
    "for entry in sum_dict:\n",
    "    print(entry, ':', sum_dict[entry] )\n",
    "    total_records += sum_dict[entry]\n",
    "\n",
    "print(\"Total: \", total_heat_records)\n",
    "\n"
   ]
  },
  {
   "cell_type": "code",
   "execution_count": 93,
   "metadata": {},
   "outputs": [
    {
     "name": "stdout",
     "output_type": "stream",
     "text": [
      "epsg:3035\n",
      "epsg:3035\n"
     ]
    }
   ],
   "source": [
    "#sandbox for getting data characteristics\n",
    "import geopandas as gpd\n",
    "import pandas as pd\n",
    "\n",
    "census = gpd.read_file('/Users/sunshinedaydream/Desktop/thesis_data_local/spatial_data/consolidatedThesisData.gpkg', layer = 'snGrid100m_build', rows=10, encoding = 'cp1252')\n",
    "eubucco = gpd.read_file(\"/Users/sunshinedaydream/Desktop/thesis_data_local/spatial_data/EUBUCCO/sachsenEUBUCCO.gpkg\", layer = \"sachsenEUBUCCO\" , rows =10000, include_fields = ['type'])\n",
    "\n",
    "\n",
    "# Assuming you have a geodataframe named 'geodf'\n",
    "# cens_cols = census.columns\n",
    "# eubucco_cols = eubucco.columns\n",
    "print(census.crs)\n",
    "print(eubucco.crs)\n",
    "\n",
    "\n",
    "\n",
    "#print ('cens_cols:', cens_cols,)\n",
    "# print ('eubucco copls:', eubucco_cols)\n",
    "#print(\"Unique EUBUCCO Building types:\", eubucco['type'].unique())\n",
    "#print( unique(eubucco['age']))\n",
    "\n",
    "# print(\"\\nData Types:\")\n",
    "# for column, dtype in data_types.iteritems():\n",
    "#     print(f\"{column}: {dtype}\")\n"
   ]
  },
  {
   "cell_type": "code",
   "execution_count": 64,
   "metadata": {},
   "outputs": [
    {
     "name": "stderr",
     "output_type": "stream",
     "text": [
      "/Users/sunshinedaydream/anaconda3/lib/python3.10/site-packages/geopandas/geodataframe.py:1322: SettingWithCopyWarning: \n",
      "A value is trying to be set on a copy of a slice from a DataFrame.\n",
      "Try using .loc[row_indexer,col_indexer] = value instead\n",
      "\n",
      "See the caveats in the documentation: https://pandas.pydata.org/pandas-docs/stable/user_guide/indexing.html#returning-a-view-versus-a-copy\n",
      "  super(GeoDataFrame, self).__setitem__(key, value)\n",
      "/Users/sunshinedaydream/anaconda3/lib/python3.10/site-packages/geopandas/io/file.py:299: FutureWarning: pandas.Int64Index is deprecated and will be removed from pandas in a future version. Use pandas.Index with the appropriate dtype instead.\n",
      "  pd.Int64Index,\n"
     ]
    }
   ],
   "source": [
    "import geopandas as gpd\n",
    "from shapely.geometry import box\n",
    "\n",
    "mask_area = gpd.read_file('/Users/sunshinedaydream/Desktop/thesis_data_local/spatial_data/consolidatedThesisData.gpkg', layer = 'leipzigArea')\n",
    "\n",
    "relevantColsEUBUCCO = ['id', 'height', 'age']\n",
    "relevantColsCensus = ['build_Gitter_ID_100m', 'build_Anderer GebÃ¤udetyp',\n",
    "       'build_Blockheizung', 'build_DoppelhaushÃ¤lfte',\n",
    "       'build_Einfamilienhaus: DoppelhaushÃ¤lfte',\n",
    "       'build_Einfamilienhaus: Reihenhaus',\n",
    "       'build_Einzel-/MehrraumÃ¶fen (auch Nachtspeicherheizung)',\n",
    "       'build_Etagenheizung', 'build_Fernheizung (FernwÃ¤rme)',\n",
    "       'build_Freistehendes Einfamilienhaus', 'build_Freistehendes Haus',\n",
    "       'build_Freistehendes Zweifamilienhaus', 'build_Gereihtes Haus',\n",
    "       'build_Keine Heizung im GebÃ¤ude oder in den Wohnungen',\n",
    "       'build_Mehrfamilienhaus: 13 und mehr Wohnungen',\n",
    "       'build_Mehrfamilienhaus: 3-6 Wohnungen',\n",
    "       'build_Mehrfamilienhaus: 7-12 Wohnungen',\n",
    "       'build_Sonstige GebÃ¤ude mit Wohnraum',\n",
    "       'build_WohngebÃ¤ude (ohne Wohnheime)', 'build_Wohnheime',\n",
    "       'build_Zentralheizung', 'build_Zweifamilienhaus: DoppelhaushÃ¤lfte',\n",
    "       'build_Zweifamilienhaus: Reihenhaus', 'geometry']\n",
    "\n",
    "# Load the geodataframes\n",
    "#buildEUBUCCO = gpd.read_file(\"/Users/sunshinedaydream/Desktop/thesis_data_local/spatial_data/EUBUCCO/sachsenEUBUCCO.gpkg\", layer = \"sachsenEUBUCCO\")\n",
    "gridHeat = gpd.read_file('/Users/sunshinedaydream/Desktop/thesis_data_local/spatial_data/consolidatedThesisData.gpkg', layer = 'snGrid100m_build', include_fields = relevantColsCensus)\n",
    "\n",
    "# Filter gridHeat based on squares that have a census entry for residential building (not null) and have no district or block heating\n",
    "filtered_gridHeat = gridHeat[(gridHeat['build_Fernheizung (FernwÃ¤rme)'].fillna(0).astype(int) == 0) & (gridHeat['build_Blockheizung'].fillna(0).astype(int) == 0) & (gridHeat['build_Gitter_ID_100m'].notnull())]\n",
    "\n",
    "# # Perform spatial join to identify intersecting features\n",
    "# intersecting_features = gpd.sjoin(buildEUBUCCO, filtered_gridHeat, predicate = \"\")\n",
    "\n",
    "#add summary columns for residential_count, and remove those for which the count = 0\n",
    "filtered_gridHeat['residential_count'] = (filtered_gridHeat['build_Sonstige GebÃ¤ude mit Wohnraum'].fillna(0).astype(int)) + filtered_gridHeat['build_WohngebÃ¤ude (ohne Wohnheime)'].fillna(0).astype(int) + filtered_gridHeat['build_Wohnheime'].fillna(0).astype(int) \n",
    "\n",
    "#print (filtered_gridHeat.dtypes)\n",
    "filtered_gridHeat = filtered_gridHeat[filtered_gridHeat['residential_count']>0]\n",
    "\n",
    "# Print the filtered geodataframe\n",
    "filtered_gridHeat.to_file('/Users/sunshinedaydream/Desktop/thesis_data_local/spatial_data/consolidatedThesisData.gpkg', layer = 'candidate_Grid', driver = \"GPKG\")"
   ]
  },
  {
   "cell_type": "code",
   "execution_count": 56,
   "metadata": {},
   "outputs": [
    {
     "data": {
      "text/plain": [
       "Index(['Anderer Gebäudetyp', 'Einfamilienhaus: Doppelhaushälfte',\n",
       "       'Einfamilienhaus: Reihenhaus', 'Freistehendes Einfamilienhaus',\n",
       "       'Freistehendes Zweifamilienhaus',\n",
       "       'Mehrfamilienhaus: 13 und mehr Wohnungen',\n",
       "       'Mehrfamilienhaus: 3-6 Wohnungen', 'Mehrfamilienhaus: 7-12 Wohnungen',\n",
       "       'Zweifamilienhaus: Doppelhaushälfte', 'Zweifamilienhaus: Reihenhaus'],\n",
       "      dtype='object', name='Auspraegung_Text')"
      ]
     },
     "execution_count": 56,
     "metadata": {},
     "output_type": "execute_result"
    }
   ],
   "source": [
    "import pandas as pd \n",
    "\n",
    "df = pd.read_csv('/Users/sunshinedaydream/Desktop/thesis_data_local/spatial_data/2011census/csv_Gebaeude_100m_Gitter/Geb100m.csv', encoding = 'cp1252')\n",
    "\n",
    "df = df[df['Merkmal'].isin(['GEBTYPGROESSE'])]\n",
    "       \n",
    "\n",
    "df.reset_index(drop=True)\n",
    "# Pivot the DataFrame using Gitter_ID_100m as the pivot column\n",
    "piv = pd.pivot_table(df, index='Gitter_ID_100m', columns='Auspraegung_Text', values='Anzahl', aggfunc='sum')\n",
    "\n",
    "piv.columns\n"
   ]
  },
  {
   "cell_type": "code",
   "execution_count": 46,
   "metadata": {},
   "outputs": [],
   "source": [
    "import pandas as pd\n",
    "import geopandas as gpd\n",
    "\n",
    "candidateGrid_gdf = gpd.read_file('/Users/sunshinedaydream/Desktop/thesis_data_local/spatial_data/consolidatedThesisData.gpkg', layer = \"candidate_Grid\")\n",
    "apartmentData_pd = pd.read_csv('/Users/sunshinedaydream/Desktop/thesis_data_local/spatial_data/2011census/csv_Wohnungen_100m_Gitter/apartment_totals_100m.csv')\n",
    "\n",
    "def force_integer(value):\n",
    "    try:\n",
    "        return int(value)\n",
    "    except ValueError:\n",
    "        return None\n",
    "\n",
    "# Specify the path to your file and the converters dictionary\n",
    "file_path = \"path/to/your/file.geojson\"  # Replace with the actual file path\n",
    "converters = {\n",
    "    \"building_id\": force_integer,\n",
    "    # Add more columns and corresponding conversion functions if needed\n",
    "}\n",
    "\n",
    "# Read the file using geopandas.read_file with the converters parameter\n",
    "gdf = gpd.read_file(file_path, converters=converters)\n",
    "\n"
   ]
  },
  {
   "cell_type": "code",
   "execution_count": null,
   "metadata": {},
   "outputs": [],
   "source": [
    "import pandas as pd\n",
    "import geopandas as gpd\n",
    "import numpy as np\n",
    "\n",
    "\n",
    "buildDict = pd.read_csv('/Users/sunshinedaydream/Desktop/thesis_data_local/non-spatial/building_type_dict.csv')\n",
    "\n",
    "buildType = 'siz_1_row'\n",
    "eubucco = gpd.read_file(\"/Users/sunshinedaydream/Desktop/thesis_data_local/spatial_data/consolidatedThesisData.gpkg\", layer = \"snEUBUCCOClean\",  rows = 10)\n",
    "matched_buildings_list = [[row['building_id'], buildType] for _, row in eubucco.iterrows()]\n",
    "\n",
    "print(buildDict.loc[buildDict['name'] == buildType]['max_floors'].values[0])\n",
    "reducedEUBUCCO = eubucco[eubucco['floors'] >= buildDict.loc[buildDict['name'] == buildType]['min_floors'].values[0]\n",
    "&\n",
    "True\n",
    "]\n",
    "\n",
    "print(reducedEUBUCCO)\n",
    "\n",
    "a = [[1,2], [2,3], [3,4]]\n",
    "b=[[2,3], [2,6]]\n",
    "\n",
    "a.extend(b)\n",
    "print(a)"
   ]
  },
  {
   "cell_type": "code",
   "execution_count": 10,
   "metadata": {},
   "outputs": [
    {
     "name": "stdout",
     "output_type": "stream",
     "text": [
      "the unique values in original type are:  ['Polygon']\n"
     ]
    },
    {
     "name": "stderr",
     "output_type": "stream",
     "text": [
      "/Users/sunshinedaydream/anaconda3/lib/python3.10/site-packages/geopandas/io/file.py:299: FutureWarning: pandas.Int64Index is deprecated and will be removed from pandas in a future version. Use pandas.Index with the appropriate dtype instead.\n",
      "  pd.Int64Index,\n"
     ]
    }
   ],
   "source": [
    "import pandas as pd\n",
    "import geopandas as gpd\n",
    "\n",
    "\n",
    "reconciler_output_df = pd.read_csv('/Users/sunshinedaydream/Desktop/thesis_data_local/non-spatial/censusReconciler.csv')\n",
    "eubucco = gpd.read_file(\"/Users/sunshinedaydream/Desktop/thesis_data_local/spatial_data/consolidatedThesisData.gpkg\", layer = \"snEUBUCCOClean\")\n",
    "reconciler_output_df.rename(columns={\"type\": \"assigned_type\"}, inplace=True)\n",
    "\n",
    "#census = gpd.read_file('/Users/sunshinedaydream/Desktop/thesis_data_local/spatial_data/consolidatedThesisData.gpkg', layer = \"candidateGridsCLEAN\")\n",
    "\n",
    "eubucco = eubucco.merge(reconciler_output_df, on = 'building_id')\n",
    "\n",
    "\n",
    "#eubucco.groupby('assigned_type').living_area.mean().to_csv('/Users/sunshinedaydream/Desktop/thesis_data_local/non-spatial/pre1000mfilter_avg_la.csv')\n",
    "\n",
    "\n",
    "#print('the unique values in original type are: ', eubucco.type.unique())\n",
    "\n",
    "eubucco.drop(columns = ['type'])\n",
    "\n",
    "\n",
    "for column in eubucco.columns:\n",
    "    if column not in ['assigned_type', 'type', 'geometry']:\n",
    "        eubucco[column] = eubucco[column].fillna(0).astype(int)\n",
    "\n",
    "eubucco = eubucco[eubucco['living_area'] <= 1000]\n",
    "\n",
    "eubucco.groupby('assigned_type').living_area.mean().to_csv('/Users/sunshinedaydream/Desktop/thesis_data_local/non-spatial/average_la_postfilter.csv')\n",
    "eubucco.groupby('assigned_type').building_id.count().to_csv('/Users/sunshinedaydream/Desktop/thesis_data_local/non-spatial/building_count_post1000m2filter.csv')\n",
    "\n",
    "\n",
    "eubucco.to_file('/Users/sunshinedaydream/Desktop/thesis_data_local/spatial_data/consolidatedThesisData.gpkg', layer = 'candidateEUBUCCO_MATCHED_CLEANED', driver = 'GPKG')\n",
    "\n",
    "\n",
    "\n"
   ]
  },
  {
   "cell_type": "code",
   "execution_count": 6,
   "metadata": {},
   "outputs": [
    {
     "name": "stdout",
     "output_type": "stream",
     "text": [
      "60    7.55476\n",
      "Name: cop, dtype: float64\n"
     ]
    }
   ],
   "source": [
    "import pandas as pd\n",
    "copDict = pd.read_csv('/Users/sunshinedaydream/Desktop/thesis_data_local/non-spatial/codeDictionaries/copDict.csv')\n",
    "\n",
    "cop_value = copDict.loc[copDict['temp'] == 43]['cop'] \n",
    "\n",
    "print(cop_value)"
   ]
  },
  {
   "cell_type": "code",
   "execution_count": 14,
   "metadata": {},
   "outputs": [
    {
     "data": {
      "image/png": "[encoded data removed]",
      "text/plain": [
       "<Figure size 640x480 with 1 Axes>"
      ]
     },
     "metadata": {},
     "output_type": "display_data"
    }
   ],
   "source": [
    "import geopandas as gpd\n",
    "import matplotlib.pyplot as plt\n",
    "\n",
    "relevant_cols = ['id', 'height']\n",
    "gdf = gpd.read_file(\"/Users/sunshinedaydream/Desktop/thesis_data_local/spatial_data/EUBUCCO/sachsenEUBUCCO.gpkg\", layer = \"sachsenEUBUCCO\", include_fields = relevant_cols)\n",
    "\n",
    "bin_width = 2\n",
    "min_height = 0\n",
    "max_height = 24\n",
    "num_bins = int((max_height - min_height) / bin_width) + 1\n",
    "\n",
    "# Plot histogram\n",
    "plt.hist(gdf['height'], bins=num_bins, range=(min_height, max_height+bin_width), edgecolor='black')\n",
    "\n",
    "plt.xlabel('Height')\n",
    "plt.ylabel('Count')\n",
    "plt.title('Building Heights in Saxony less than 24m')\n",
    "\n",
    "plt.show()"
   ]
  },
  {
   "cell_type": "code",
   "execution_count": 2,
   "metadata": {},
   "outputs": [
    {
     "name": "stdout",
     "output_type": "stream",
     "text": [
      "Maximum length of lists: 12\n",
      "Minimum length of lists: 12\n"
     ]
    }
   ],
   "source": [
    "import pandas as pd\n",
    "import matplotlib.pyplot as plt\n",
    "\n",
    "df = pd.read_csv('/Users/sunshinedaydream/Desktop/thesis_data_local/spatial_data/scratch/avgTemps.csv')\n",
    "\n",
    "\n",
    "\n",
    "# Assuming the column \"monthlyAvgTemps\" contains strings representing lists,\n",
    "# let's convert them to actual Python lists using ast.literal_eval\n",
    "import ast\n",
    "df['monthlyAvgTemp'] = df['monthlyAvgTemp'].apply(ast.literal_eval)\n",
    "\n",
    "# Find the maximum and minimum length of lists in the \"monthlyAvgTemps\" column\n",
    "max_length = df['monthlyAvgTemp'].apply(len).max()\n",
    "min_length = df['monthlyAvgTemp'].apply(len).min()\n",
    "\n",
    "# Print the results\n",
    "print(f\"Maximum length of lists: {max_length}\")\n",
    "print(f\"Minimum length of lists: {min_length}\")\n",
    "\n",
    "del(cop)\n",
    "de"
   ]
  }
 ],
 "metadata": {
  "kernelspec": {
   "display_name": "base",
   "language": "python",
   "name": "python3"
  },
  "language_info": {
   "codemirror_mode": {
    "name": "ipython",
    "version": 3
   },
   "file_extension": ".py",
   "mimetype": "text/x-python",
   "name": "python",
   "nbconvert_exporter": "python",
   "pygments_lexer": "ipython3",
   "version": "3.10.9"
  },
  "orig_nbformat": 4,
  "vscode": {
   "interpreter": {
    "hash": "2bf436928126b5fb003909d43137d5350c5b84f1875595db1647501f29b069ea"
   }
  }
 },
 "nbformat": 4,
 "nbformat_minor": 2
}
