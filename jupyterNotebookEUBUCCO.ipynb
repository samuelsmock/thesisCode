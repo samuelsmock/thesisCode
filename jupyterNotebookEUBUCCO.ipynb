{
 "cells": [
  {
   "cell_type": "code",
   "execution_count": 11,
   "metadata": {},
   "outputs": [],
   "source": [
    "import os\n",
    "import pandas as pd\n",
    "\n",
    "import geopandas as gpd\n",
    "from shapely import wkt\n",
    "import matplotlib.pyplot as plt\n",
    "\n",
    "#assign the boundary mask\n",
    "gdf_mask_path = r\"C:\\Users\\smock\\Desktop\\thesis_data_local\\spatial_data\\consolidatedThesisData.gpkg\"\n",
    "gdf_mask_path = gdf_mask_path.replace('\\\\', '/')\n",
    "gdf_mask = gpd.read_file(gdf_mask_path)\n",
    "\n",
    "\n",
    "#define overview file as a pandas df\n",
    "overview_df = pd.read_csv(r'C:\\Users\\smock\\Desktop\\thesis_data_local\\spatial_data\\EUBUCCO\\admin-codes-matches-v0.1.csv')\n",
    "\n",
    "\n",
    "#import sachsen data \n",
    "gdf_sachsen_path = r'C:\\Users\\smock\\Desktop\\thesis_data_local\\spatial_data\\EUBUCCO\\v0_1-DEU\\v0_1-DEU_14.gpkg\\v0_1-DEU_14.gpkg'\n",
    "gdf_sachsen_path = gdf_sachsen_path.replace('\\\\', '/')\n",
    "gdf_sachsen = gpd.read_file(gdf_sachsen_path)\n",
    "\n",
    "\n",
    "#create blank list for filtered/matched gdfs\n",
    "#output_gdf = gpd.read_file('zip:///Users/smock/Desktop/thesis_data_local/spatial_data/EUBUCCO/v0_1-DEU/v0_1-DEU_1.gpkg.zip!v0_1-DEU_1.gpkg', rows = 0) # if you have unzipped the file removed .zip\n",
    "output_list = []\n",
    "\n",
    "#matching helper function available at https://eubucco.com/tutorials/getting_started\n",
    "def match_gadm_info(df_temp,df_overview):\n",
    "    \"\"\" function to match country, region and city info from overview table with building level data\n",
    "        df_temp (dataframe):=   building level dataframe\n",
    "        df_overview:=           overview table\n",
    "    \"\"\"\n",
    "    # remove numbering at end of id str \n",
    "    df_temp['id'] = df_temp['id'].str.rsplit(\"-\", n=1).apply(lambda x: x[0])\n",
    "    # merge with overview file\n",
    "    df_out = df_temp.merge(df_overview, left_on='id',right_on='id')\n",
    "    # keep only relevant columns\n",
    "    df_out = df_out[['id','id_source','country','region','city','height','age','type','type_source','geometry']]\n",
    "    # rename back to 'id' and return\n",
    "    return df_out.rename(columns={'idx_x':'id'})\n",
    "\n",
    "match_gadm_info(gdf_sachsen, overview_df).to_file('C:/Users/smock/Desktop/thesis_data_local/spatial_data/EUBUCCO/sachsenEUBUCCO.gpkg', Driver ='GPKG')\n",
    "\n",
    "#loop throughfiles in v0_1-DEU\n",
    "# for folder in os.scandir('C:\\\\Users\\\\smock\\\\Desktop\\\\thesis_data_local\\\\spatial_data\\\\EUBUCCO\\\\v0_1-DEU'):\n",
    "#     for file in os.scandir(folder):\n",
    "#         output_list.append(gpd.read_file(os.path.abspath(file), mask = gdf_mask))\n",
    "# print(output_list[0].head(10))\n",
    "\n",
    "\n",
    "# gpd.GeoDataFrame(pd.concat(output_list, ignore_index=True), crs=output_list[0].crs).to_file('C:/Users/smock/Desktop/thesis_data_local/spatial_data/EUBUCCO/sachsenEUBUCCO.gpkg', driver ='GPKG')       \n",
    "\n",
    "\n",
    "\n"
   ]
  },
  {
   "cell_type": "code",
   "execution_count": 13,
   "metadata": {},
   "outputs": [
    {
     "ename": "KeyboardInterrupt",
     "evalue": "",
     "output_type": "error",
     "traceback": [
      "\u001b[1;31m---------------------------------------------------------------------------\u001b[0m",
      "\u001b[1;31mKeyboardInterrupt\u001b[0m                         Traceback (most recent call last)",
      "Cell \u001b[1;32mIn[13], line 3\u001b[0m\n\u001b[0;32m      1\u001b[0m \u001b[39mimport\u001b[39;00m \u001b[39mgeopandas\u001b[39;00m \u001b[39mas\u001b[39;00m \u001b[39mgpd\u001b[39;00m\n\u001b[1;32m----> 3\u001b[0m gdf \u001b[39m=\u001b[39m gpd\u001b[39m.\u001b[39;49mread_file(\u001b[39mr\u001b[39;49m\u001b[39m\"\u001b[39;49m\u001b[39mC:\u001b[39;49m\u001b[39m\\\u001b[39;49m\u001b[39mUsers\u001b[39;49m\u001b[39m\\\u001b[39;49m\u001b[39msmock\u001b[39;49m\u001b[39m\\\u001b[39;49m\u001b[39mDesktop\u001b[39;49m\u001b[39m\\\u001b[39;49m\u001b[39mthesis_data_local\u001b[39;49m\u001b[39m\\\u001b[39;49m\u001b[39mspatial_data\u001b[39;49m\u001b[39m\\\u001b[39;49m\u001b[39mEUBUCCO\u001b[39;49m\u001b[39m\\\u001b[39;49m\u001b[39msachsenEUBUCCO.gpkg\u001b[39;49m\u001b[39m\"\u001b[39;49m)\n\u001b[0;32m      4\u001b[0m \u001b[39mprint\u001b[39m(\u001b[39mlen\u001b[39m(gdf))\n\u001b[0;32m      5\u001b[0m \u001b[39mprint\u001b[39m(gdf\u001b[39m.\u001b[39mhead(\u001b[39m10\u001b[39m))\n",
      "File \u001b[1;32mc:\\Users\\smock\\anaconda3\\lib\\site-packages\\geopandas\\io\\file.py:259\u001b[0m, in \u001b[0;36m_read_file\u001b[1;34m(filename, bbox, mask, rows, engine, **kwargs)\u001b[0m\n\u001b[0;32m    256\u001b[0m     path_or_bytes \u001b[39m=\u001b[39m filename\n\u001b[0;32m    258\u001b[0m \u001b[39mif\u001b[39;00m engine \u001b[39m==\u001b[39m \u001b[39m\"\u001b[39m\u001b[39mfiona\u001b[39m\u001b[39m\"\u001b[39m:\n\u001b[1;32m--> 259\u001b[0m     \u001b[39mreturn\u001b[39;00m _read_file_fiona(\n\u001b[0;32m    260\u001b[0m         path_or_bytes, from_bytes, bbox\u001b[39m=\u001b[39mbbox, mask\u001b[39m=\u001b[39mmask, rows\u001b[39m=\u001b[39mrows, \u001b[39m*\u001b[39m\u001b[39m*\u001b[39mkwargs\n\u001b[0;32m    261\u001b[0m     )\n\u001b[0;32m    262\u001b[0m \u001b[39melif\u001b[39;00m engine \u001b[39m==\u001b[39m \u001b[39m\"\u001b[39m\u001b[39mpyogrio\u001b[39m\u001b[39m\"\u001b[39m:\n\u001b[0;32m    263\u001b[0m     \u001b[39mreturn\u001b[39;00m _read_file_pyogrio(\n\u001b[0;32m    264\u001b[0m         path_or_bytes, bbox\u001b[39m=\u001b[39mbbox, mask\u001b[39m=\u001b[39mmask, rows\u001b[39m=\u001b[39mrows, \u001b[39m*\u001b[39m\u001b[39m*\u001b[39mkwargs\n\u001b[0;32m    265\u001b[0m     )\n",
      "File \u001b[1;32mc:\\Users\\smock\\anaconda3\\lib\\site-packages\\geopandas\\io\\file.py:360\u001b[0m, in \u001b[0;36m_read_file_fiona\u001b[1;34m(path_or_bytes, from_bytes, bbox, mask, rows, where, **kwargs)\u001b[0m\n\u001b[0;32m    356\u001b[0m     df \u001b[39m=\u001b[39m pd\u001b[39m.\u001b[39mDataFrame(\n\u001b[0;32m    357\u001b[0m         [record[\u001b[39m\"\u001b[39m\u001b[39mproperties\u001b[39m\u001b[39m\"\u001b[39m] \u001b[39mfor\u001b[39;00m record \u001b[39min\u001b[39;00m f_filt], columns\u001b[39m=\u001b[39mcolumns\n\u001b[0;32m    358\u001b[0m     )\n\u001b[0;32m    359\u001b[0m \u001b[39melse\u001b[39;00m:\n\u001b[1;32m--> 360\u001b[0m     df \u001b[39m=\u001b[39m GeoDataFrame\u001b[39m.\u001b[39;49mfrom_features(\n\u001b[0;32m    361\u001b[0m         f_filt, crs\u001b[39m=\u001b[39;49mcrs, columns\u001b[39m=\u001b[39;49mcolumns \u001b[39m+\u001b[39;49m [\u001b[39m\"\u001b[39;49m\u001b[39mgeometry\u001b[39;49m\u001b[39m\"\u001b[39;49m]\n\u001b[0;32m    362\u001b[0m     )\n\u001b[0;32m    363\u001b[0m \u001b[39mfor\u001b[39;00m k \u001b[39min\u001b[39;00m datetime_fields:\n\u001b[0;32m    364\u001b[0m     as_dt \u001b[39m=\u001b[39m pd\u001b[39m.\u001b[39mto_datetime(df[k], errors\u001b[39m=\u001b[39m\u001b[39m\"\u001b[39m\u001b[39mignore\u001b[39m\u001b[39m\"\u001b[39m)\n",
      "File \u001b[1;32mc:\\Users\\smock\\anaconda3\\lib\\site-packages\\geopandas\\geodataframe.py:635\u001b[0m, in \u001b[0;36mGeoDataFrame.from_features\u001b[1;34m(cls, features, crs, columns)\u001b[0m\n\u001b[0;32m    632\u001b[0m \u001b[39mif\u001b[39;00m \u001b[39mhasattr\u001b[39m(feature, \u001b[39m\"\u001b[39m\u001b[39m__geo_interface__\u001b[39m\u001b[39m\"\u001b[39m):\n\u001b[0;32m    633\u001b[0m     feature \u001b[39m=\u001b[39m feature\u001b[39m.\u001b[39m__geo_interface__\n\u001b[0;32m    634\u001b[0m row \u001b[39m=\u001b[39m {\n\u001b[1;32m--> 635\u001b[0m     \u001b[39m\"\u001b[39m\u001b[39mgeometry\u001b[39m\u001b[39m\"\u001b[39m: shape(feature[\u001b[39m\"\u001b[39;49m\u001b[39mgeometry\u001b[39;49m\u001b[39m\"\u001b[39;49m]) \u001b[39mif\u001b[39;00m feature[\u001b[39m\"\u001b[39m\u001b[39mgeometry\u001b[39m\u001b[39m\"\u001b[39m] \u001b[39melse\u001b[39;00m \u001b[39mNone\u001b[39;00m\n\u001b[0;32m    636\u001b[0m }\n\u001b[0;32m    637\u001b[0m \u001b[39m# load properties\u001b[39;00m\n\u001b[0;32m    638\u001b[0m properties \u001b[39m=\u001b[39m feature[\u001b[39m\"\u001b[39m\u001b[39mproperties\u001b[39m\u001b[39m\"\u001b[39m]\n",
      "File \u001b[1;32mc:\\Users\\smock\\anaconda3\\lib\\site-packages\\shapely\\geometry\\geo.py:102\u001b[0m, in \u001b[0;36mshape\u001b[1;34m(context)\u001b[0m\n\u001b[0;32m    100\u001b[0m     \u001b[39mreturn\u001b[39;00m LinearRing(ob[\u001b[39m\"\u001b[39m\u001b[39mcoordinates\u001b[39m\u001b[39m\"\u001b[39m])\n\u001b[0;32m    101\u001b[0m \u001b[39melif\u001b[39;00m geom_type \u001b[39m==\u001b[39m \u001b[39m\"\u001b[39m\u001b[39mpolygon\u001b[39m\u001b[39m\"\u001b[39m:\n\u001b[1;32m--> 102\u001b[0m     \u001b[39mreturn\u001b[39;00m Polygon(ob[\u001b[39m\"\u001b[39;49m\u001b[39mcoordinates\u001b[39;49m\u001b[39m\"\u001b[39;49m][\u001b[39m0\u001b[39;49m], ob[\u001b[39m\"\u001b[39;49m\u001b[39mcoordinates\u001b[39;49m\u001b[39m\"\u001b[39;49m][\u001b[39m1\u001b[39;49m:])\n\u001b[0;32m    103\u001b[0m \u001b[39melif\u001b[39;00m geom_type \u001b[39m==\u001b[39m \u001b[39m\"\u001b[39m\u001b[39mmultipoint\u001b[39m\u001b[39m\"\u001b[39m:\n\u001b[0;32m    104\u001b[0m     \u001b[39mreturn\u001b[39;00m MultiPoint(ob[\u001b[39m\"\u001b[39m\u001b[39mcoordinates\u001b[39m\u001b[39m\"\u001b[39m])\n",
      "File \u001b[1;32mc:\\Users\\smock\\anaconda3\\lib\\site-packages\\shapely\\geometry\\polygon.py:230\u001b[0m, in \u001b[0;36mPolygon.__new__\u001b[1;34m(self, shell, holes)\u001b[0m\n\u001b[0;32m    228\u001b[0m     \u001b[39mreturn\u001b[39;00m shell\n\u001b[0;32m    229\u001b[0m \u001b[39melse\u001b[39;00m:\n\u001b[1;32m--> 230\u001b[0m     shell \u001b[39m=\u001b[39m LinearRing(shell)\n\u001b[0;32m    232\u001b[0m \u001b[39mif\u001b[39;00m holes \u001b[39mis\u001b[39;00m \u001b[39mnot\u001b[39;00m \u001b[39mNone\u001b[39;00m:\n\u001b[0;32m    233\u001b[0m     \u001b[39mif\u001b[39;00m \u001b[39mlen\u001b[39m(holes) \u001b[39m==\u001b[39m \u001b[39m0\u001b[39m:\n\u001b[0;32m    234\u001b[0m         \u001b[39m# shapely constructor cannot handle holes=[]\u001b[39;00m\n",
      "File \u001b[1;32mc:\\Users\\smock\\anaconda3\\lib\\site-packages\\shapely\\geometry\\polygon.py:104\u001b[0m, in \u001b[0;36mLinearRing.__new__\u001b[1;34m(self, coordinates)\u001b[0m\n\u001b[0;32m     99\u001b[0m \u001b[39mif\u001b[39;00m \u001b[39mlen\u001b[39m(coordinates) \u001b[39m==\u001b[39m \u001b[39m0\u001b[39m:\n\u001b[0;32m    100\u001b[0m     \u001b[39m# empty geometry\u001b[39;00m\n\u001b[0;32m    101\u001b[0m     \u001b[39m# TODO better constructor + should shapely.linearrings handle this?\u001b[39;00m\n\u001b[0;32m    102\u001b[0m     \u001b[39mreturn\u001b[39;00m shapely\u001b[39m.\u001b[39mfrom_wkt(\u001b[39m\"\u001b[39m\u001b[39mLINEARRING EMPTY\u001b[39m\u001b[39m\"\u001b[39m)\n\u001b[1;32m--> 104\u001b[0m geom \u001b[39m=\u001b[39m shapely\u001b[39m.\u001b[39;49mlinearrings(coordinates)\n\u001b[0;32m    105\u001b[0m \u001b[39mif\u001b[39;00m \u001b[39mnot\u001b[39;00m \u001b[39misinstance\u001b[39m(geom, LinearRing):\n\u001b[0;32m    106\u001b[0m     \u001b[39mraise\u001b[39;00m \u001b[39mValueError\u001b[39;00m(\u001b[39m\"\u001b[39m\u001b[39mInvalid values passed to LinearRing constructor\u001b[39m\u001b[39m\"\u001b[39m)\n",
      "File \u001b[1;32mc:\\Users\\smock\\anaconda3\\lib\\site-packages\\shapely\\decorators.py:77\u001b[0m, in \u001b[0;36mmultithreading_enabled.<locals>.wrapped\u001b[1;34m(*args, **kwargs)\u001b[0m\n\u001b[0;32m     75\u001b[0m     \u001b[39mfor\u001b[39;00m arr \u001b[39min\u001b[39;00m array_args:\n\u001b[0;32m     76\u001b[0m         arr\u001b[39m.\u001b[39mflags\u001b[39m.\u001b[39mwriteable \u001b[39m=\u001b[39m \u001b[39mFalse\u001b[39;00m\n\u001b[1;32m---> 77\u001b[0m     \u001b[39mreturn\u001b[39;00m func(\u001b[39m*\u001b[39margs, \u001b[39m*\u001b[39m\u001b[39m*\u001b[39mkwargs)\n\u001b[0;32m     78\u001b[0m \u001b[39mfinally\u001b[39;00m:\n\u001b[0;32m     79\u001b[0m     \u001b[39mfor\u001b[39;00m arr, old_flag \u001b[39min\u001b[39;00m \u001b[39mzip\u001b[39m(array_args, old_flags):\n",
      "File \u001b[1;32mc:\\Users\\smock\\anaconda3\\lib\\site-packages\\shapely\\creation.py:173\u001b[0m, in \u001b[0;36mlinearrings\u001b[1;34m(coords, y, z, indices, out, **kwargs)\u001b[0m\n\u001b[0;32m    171\u001b[0m coords \u001b[39m=\u001b[39m _xyz_to_coords(coords, y, z)\n\u001b[0;32m    172\u001b[0m \u001b[39mif\u001b[39;00m indices \u001b[39mis\u001b[39;00m \u001b[39mNone\u001b[39;00m:\n\u001b[1;32m--> 173\u001b[0m     \u001b[39mreturn\u001b[39;00m lib\u001b[39m.\u001b[39mlinearrings(coords, out\u001b[39m=\u001b[39mout, \u001b[39m*\u001b[39m\u001b[39m*\u001b[39mkwargs)\n\u001b[0;32m    174\u001b[0m \u001b[39melse\u001b[39;00m:\n\u001b[0;32m    175\u001b[0m     \u001b[39mreturn\u001b[39;00m simple_geometries_1d(coords, indices, GeometryType\u001b[39m.\u001b[39mLINEARRING, out\u001b[39m=\u001b[39mout)\n",
      "\u001b[1;31mKeyboardInterrupt\u001b[0m: "
     ]
    }
   ],
   "source": [
    "import geopandas as gpd\n",
    "\n",
    "gdf = gpd.read_file(r\"C:\\Users\\smock\\Desktop\\thesis_data_local\\spatial_data\\EUBUCCO\\sachsenEUBUCCO.gpkg\")\n",
    "print(len(gdf))\n"
   ]
  },
  {
   "cell_type": "code",
   "execution_count": 15,
   "metadata": {},
   "outputs": [
    {
     "data": {
      "text/plain": [
       "array(['unknown', 'non-residential', 'residential'], dtype=object)"
      ]
     },
     "execution_count": 15,
     "metadata": {},
     "output_type": "execute_result"
    }
   ],
   "source": [
    "gdf(gdf['type'].unique()\n"
   ]
  }
 ],
 "metadata": {
  "kernelspec": {
   "display_name": "base",
   "language": "python",
   "name": "python3"
  },
  "language_info": {
   "codemirror_mode": {
    "name": "ipython",
    "version": 3
   },
   "file_extension": ".py",
   "mimetype": "text/x-python",
   "name": "python",
   "nbconvert_exporter": "python",
   "pygments_lexer": "ipython3",
   "version": "3.10.10"
  },
  "orig_nbformat": 4
 },
 "nbformat": 4,
 "nbformat_minor": 2
}
